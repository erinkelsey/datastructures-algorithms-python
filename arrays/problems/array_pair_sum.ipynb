{
 "cells": [
  {
   "cell_type": "markdown",
   "metadata": {},
   "source": [
    "# Array Pair Sum\n",
    "\n",
    "## Problem\n",
    "\n",
    "Given an integer array, output all the ** *unique* ** pairs that sum up to a specific value **k**.\n",
    "\n",
    "So the input:\n",
    "    \n",
    "    pair_sum([1,3,2,2],4)\n",
    "\n",
    "would return **2** pairs:\n",
    "\n",
    "     (1,3)\n",
    "     (2,2)\n",
    "\n",
    "**NOTE: FOR TESTING PURPOSES CHANGE YOUR FUNCTION SO IT OUTPUTS THE NUMBER OF PAIRS**\n",
    "\n",
    "## Solution"
   ]
  },
  {
   "cell_type": "code",
   "execution_count": 17,
   "metadata": {
    "collapsed": true
   },
   "outputs": [],
   "source": [
    "def pair_sum(arr,k):\n",
    "    '''\n",
    "    Given integer array arr, output all the unique pairs that sum up to a specific value k\n",
    "\n",
    "    Args: \n",
    "        arr (array): integer array to check for unique pairs\n",
    "        k (integer): the value to use for the specific sum for finding unique pairs\n",
    "\n",
    "    Returns:\n",
    "        (integer): the number of pairs found\n",
    "    '''\n",
    "\n",
    "    # if there are less than 2 elements in array, no pairs \n",
    "    if len(arr) < 2:\n",
    "        return 0\n",
    "\n",
    "    # sets for tracking\n",
    "    seen = set()\n",
    "    output = set()\n",
    "\n",
    "    for num in arr:\n",
    "        target = k-num\n",
    "\n",
    "        if target not in seen:\n",
    "            seen.add(num)\n",
    "\n",
    "        else:\n",
    "            output.add( ((min(num, target)), max(num, target)) )\n",
    "\n",
    "    return len(output)\n",
    "    # print('\\n'.join(map(str, list(output))))\n"
   ]
  },
  {
   "cell_type": "code",
   "execution_count": 18,
   "metadata": {
    "collapsed": false
   },
   "outputs": [
    {
     "output_type": "execute_result",
     "data": {
      "text/plain": "2"
     },
     "metadata": {},
     "execution_count": 18
    }
   ],
   "source": [
    "pair_sum([1,3,2,2],4)"
   ]
  },
  {
   "cell_type": "markdown",
   "metadata": {},
   "source": [
    "# Test Solution"
   ]
  },
  {
   "cell_type": "code",
   "execution_count": 19,
   "metadata": {
    "collapsed": false
   },
   "outputs": [
    {
     "output_type": "stream",
     "name": "stdout",
     "text": "ALL TEST CASES PASSED\n"
    }
   ],
   "source": [
    "import pytest\n",
    "\n",
    "class TestPair():\n",
    "    \n",
    "    def test(self,sol):\n",
    "        assert sol([1,9,2,8,3,7,4,6,5,5,13,14,11,13,-1],10) == 6\n",
    "        assert sol([1,2,3,1],3) == 1\n",
    "        assert sol([1,3,2,2],4) == 2\n",
    "        print('ALL TEST CASES PASSED')\n",
    "        \n",
    "#Run tests\n",
    "t = TestPair()\n",
    "t.test(pair_sum)\n",
    "    "
   ]
  },
  {
   "cell_type": "code",
   "execution_count": null,
   "metadata": {},
   "outputs": [],
   "source": []
  }
 ],
 "metadata": {
  "kernelspec": {
   "display_name": "Python 3.7.7 64-bit ('datastructures-algorithms': pipenv)",
   "language": "python",
   "name": "python37764bitdatastructuresalgorithmspipenvc0f37b3f6c454ed6af6b9f7ea8df9c0f"
  },
  "language_info": {
   "codemirror_mode": {
    "name": "ipython",
    "version": 2
   },
   "file_extension": ".py",
   "mimetype": "text/x-python",
   "name": "python",
   "nbconvert_exporter": "python",
   "pygments_lexer": "ipython2",
   "version": "3.7.7-final"
  }
 },
 "nbformat": 4,
 "nbformat_minor": 0
}