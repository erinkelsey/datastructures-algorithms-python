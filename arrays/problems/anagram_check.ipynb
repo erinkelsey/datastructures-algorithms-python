{
 "cells": [
  {
   "cell_type": "markdown",
   "metadata": {},
   "source": [
    "# Anagram Check\n",
    "\n",
    "## Problem\n",
    "\n",
    "Given two strings, check to see if they are anagrams. An anagram is when the two strings can be written using the exact same letters (so you can just rearrange the letters to get a different phrase or word). \n",
    "\n",
    "For example:\n",
    "\n",
    "    \"public relations\" is an anagram of \"crap built on lies.\"\n",
    "    \n",
    "    \"clint eastwood\" is an anagram of \"old west action\"\n",
    "    \n",
    "**Note: Ignore spaces and capitalization. So \"d go\" is an anagram of \"God\" and \"dog\" and \"o d g\".**\n",
    "\n",
    "## Solution # 1"
   ]
  },
  {
   "cell_type": "code",
   "execution_count": 67,
   "metadata": {
    "collapsed": false
   },
   "outputs": [],
   "source": [
    "def convert_string_to_dict(s):\n",
    "    '''\n",
    "    Convert a string into a dictionary, containing the string chars and \n",
    "    how many of each char as key-value pairs\n",
    "\n",
    "    Args:\n",
    "        s (str): the string to convert\n",
    "\n",
    "    Returns:\n",
    "        (dict): dictionary containing the string chars and how many of each char\n",
    "            as key-value pairs\n",
    "    '''\n",
    "    s_dict = dict.fromkeys(s, 0)\n",
    "    for st in s:\n",
    "        s_dict[st] += 1\n",
    "\n",
    "    return s_dict\n",
    "\n",
    "def anagram(s1, s2):\n",
    "    ''' \n",
    "    Check if s1 is an anagram of s2, by checking the frequency of letters in strings.\n",
    "    If the frequency of letters is the same, then the strings are anagrams of eachother.\n",
    "\n",
    "    Ignore spaces and capitalization.\n",
    "\n",
    "    Args:\n",
    "        s1 (str): first string to check\n",
    "        s2 (str): second string to check\n",
    "\n",
    "    Returns:\n",
    "        (bool): True if s1 is anagram of s2, else False\n",
    "    '''\n",
    "    s1 = s1.replace(' ', '').lower()\n",
    "    s2 = s2.replace(' ', '').lower()\n",
    "\n",
    "    # check edge case -> strings must be equal to be anagrams\n",
    "    if len(s1) != len(s2):\n",
    "        return False\n",
    "\n",
    "    s1_dict = convert_string_to_dict(s1)\n",
    "    s2_dict = convert_string_to_dict(s2)\n",
    "\n",
    "    # compare dictionaries\n",
    "    return s1_dict.items() == s2_dict.items()\n",
    "    \n"
   ]
  },
  {
   "cell_type": "markdown",
   "metadata": {},
   "source": [
    "## Solution # 2"
   ]
  },
  {
   "cell_type": "code",
   "execution_count": 65,
   "metadata": {},
   "outputs": [],
   "source": [
    "def anagram2(s1, s2):\n",
    "    \"\"\"\n",
    "    Check if s1 is an anagram of s2, by checking if the sorted strings are equal.\n",
    "\n",
    "    Ignore spaces and capitalization.\n",
    "\n",
    "    Args:\n",
    "        s1 (str): first string to check\n",
    "        s2 (str): second string to check\n",
    "\n",
    "    Returns:\n",
    "        (bool): True if s1 is anagram of s2, else False\n",
    "    \"\"\"\n",
    "    return sorted(s1.replace(' ','').lower()) == sorted(s2.replace(' ', '').lower())"
   ]
  },
  {
   "cell_type": "code",
   "execution_count": 58,
   "metadata": {
    "collapsed": false
   },
   "outputs": [
    {
     "output_type": "execute_result",
     "data": {
      "text/plain": "True"
     },
     "metadata": {},
     "execution_count": 58
    }
   ],
   "source": [
    "anagram('dog','god')\n",
    "anagram2('dog','god')"
   ]
  },
  {
   "cell_type": "code",
   "execution_count": 61,
   "metadata": {
    "collapsed": false
   },
   "outputs": [
    {
     "output_type": "execute_result",
     "data": {
      "text/plain": "True"
     },
     "metadata": {},
     "execution_count": 61
    }
   ],
   "source": [
    "anagram('clint eastwood','old west action')\n",
    "anagram2('clint eastwood','old west action')"
   ]
  },
  {
   "cell_type": "code",
   "execution_count": 62,
   "metadata": {
    "collapsed": false
   },
   "outputs": [
    {
     "output_type": "execute_result",
     "data": {
      "text/plain": "False"
     },
     "metadata": {},
     "execution_count": 62
    }
   ],
   "source": [
    "anagram('aa','bb')\n",
    "anagram2('aa','bb')"
   ]
  },
  {
   "cell_type": "markdown",
   "metadata": {},
   "source": [
    "# Test Solutions"
   ]
  },
  {
   "cell_type": "code",
   "execution_count": 68,
   "metadata": {
    "collapsed": false
   },
   "outputs": [
    {
     "output_type": "stream",
     "name": "stdout",
     "text": "TESTING SOLUTION #1\nALL TEST CASES PASSED\nTESTING SOLUTION #2\nALL TEST CASES PASSED\n"
    }
   ],
   "source": [
    "import pytest\n",
    "\n",
    "class AnagramTest():\n",
    "    \n",
    "    def test(self,sol):\n",
    "        assert sol('go go go','gggooo') == True\n",
    "        assert sol('abc','cba') == True\n",
    "        assert sol('hi man','hi     man') == True\n",
    "        assert sol('aabbcc','aabbc') == False\n",
    "        assert sol('123','1 2') == False\n",
    "        print(\"ALL TEST CASES PASSED\")\n",
    "\n",
    "# Run Tests\n",
    "t = AnagramTest()\n",
    "print('TESTING SOLUTION #1')\n",
    "t.test(anagram)\n",
    "print('TESTING SOLUTION #2')\n",
    "t.test(anagram2)\n"
   ]
  },
  {
   "cell_type": "code",
   "execution_count": null,
   "metadata": {},
   "outputs": [],
   "source": []
  }
 ],
 "metadata": {
  "kernelspec": {
   "display_name": "Python 3.7.7 64-bit ('datastructures-algorithms': pipenv)",
   "language": "python",
   "name": "python37764bitdatastructuresalgorithmspipenvc0f37b3f6c454ed6af6b9f7ea8df9c0f"
  },
  "language_info": {
   "codemirror_mode": {
    "name": "ipython",
    "version": 2
   },
   "file_extension": ".py",
   "mimetype": "text/x-python",
   "name": "python",
   "nbconvert_exporter": "python",
   "pygments_lexer": "ipython2",
   "version": "3.7.7-final"
  }
 },
 "nbformat": 4,
 "nbformat_minor": 0
}